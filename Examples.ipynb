{
 "cells": [
  {
   "cell_type": "markdown",
   "id": "colored-advice",
   "metadata": {},
   "source": [
    "**Alexandre HUANG  \n",
    "Kevin KAMALANATHAN**"
   ]
  },
  {
   "cell_type": "markdown",
   "id": "provincial-samba",
   "metadata": {},
   "source": [
    "<div align=\"center\"><span style=\"font-family:Lucida Caligraphy;font-size:32px;color:#FA8072\">Examples with DATA & PROC steps</span></div><br><br>"
   ]
  },
  {
   "cell_type": "markdown",
   "id": "pressing-lawsuit",
   "metadata": {},
   "source": [
    "# *What is this notebook for?*"
   ]
  },
  {
   "cell_type": "markdown",
   "id": "spectacular-rings",
   "metadata": {},
   "source": [
    "In this notebook you will find various examples of translations of the DATA and PROC steps.\n",
    "For the moment, the python function \"TRANSLATOR\" that we have created translates the following statements in the DATA step: DROP, KEEP, WHERE and RENAME but also the SAS SUBSTR function and it also translates two procedures: PROC MEANS and the PROC FREQ."
   ]
  },
  {
   "cell_type": "markdown",
   "id": "grave-assist",
   "metadata": {},
   "source": [
    "# *Import of functions from the Analyzer program allowing the translation of SAS codes*"
   ]
  },
  {
   "cell_type": "code",
   "execution_count": 1,
   "id": "packed-chassis",
   "metadata": {},
   "outputs": [],
   "source": [
    "import sys\n",
    "\n",
    "#Put your path in order to access the python programs Functions_analyzer\n",
    "sys.path.append(\"I_Love_SAS_in_Python/Analyzer.py\")\n",
    "\n",
    "from Analyzer import translator"
   ]
  },
  {
   "cell_type": "markdown",
   "id": "distributed-thong",
   "metadata": {},
   "source": [
    "# *Examples with DATA step*"
   ]
  },
  {
   "cell_type": "markdown",
   "id": "awful-ability",
   "metadata": {},
   "source": [
    " - **DATA SET only**"
   ]
  },
  {
   "cell_type": "code",
   "execution_count": 2,
   "id": "nuclear-restriction",
   "metadata": {},
   "outputs": [
    {
     "name": "stdout",
     "output_type": "stream",
     "text": [
      "table=NBA.copy()\n",
      "\n"
     ]
    }
   ],
   "source": [
    "print (translator(\"\"\"\n",
    "                  DATA table; set NBA;\n",
    "                  RUN;\"\"\"))"
   ]
  },
  {
   "cell_type": "markdown",
   "id": "stunning-insert",
   "metadata": {},
   "source": [
    " - **Examples with DROP statement**"
   ]
  },
  {
   "cell_type": "code",
   "execution_count": 3,
   "id": "miniature-virgin",
   "metadata": {},
   "outputs": [
    {
     "name": "stdout",
     "output_type": "stream",
     "text": [
      "table=NBA.copy()\n",
      "table=table.drop(columns=['COLLEGE','NETRTG'])\n",
      "\n"
     ]
    }
   ],
   "source": [
    "print(translator(\"\"\"\n",
    "                 DATA table; set NBA;\n",
    "                 drop COLLEGE NETRTG;\n",
    "                 RUN;\"\"\"))"
   ]
  },
  {
   "cell_type": "code",
   "execution_count": 4,
   "id": "mature-tomorrow",
   "metadata": {},
   "outputs": [
    {
     "name": "stdout",
     "output_type": "stream",
     "text": [
      "NBA=NBA.drop(columns=['COUNTRY'])\n",
      "\n"
     ]
    }
   ],
   "source": [
    "print(translator(\"\"\"\n",
    "                 DATA NBA; set NBA;\n",
    "                 drop COUNTRY;\n",
    "                 RUN;\"\"\"))"
   ]
  },
  {
   "cell_type": "markdown",
   "id": "perceived-confirmation",
   "metadata": {},
   "source": [
    " - **Examples with KEEP statement**"
   ]
  },
  {
   "cell_type": "code",
   "execution_count": 5,
   "id": "wrapped-folder",
   "metadata": {},
   "outputs": [
    {
     "name": "stdout",
     "output_type": "stream",
     "text": [
      "table=NBA.copy()\n",
      "table=table[['PLAYER','TEAM','COUNTRY','PTS','REB']]\n",
      "\n"
     ]
    }
   ],
   "source": [
    "print(translator(\"\"\"\n",
    "                 DATA table; set NBA;\n",
    "                 keep PLAYER TEAM COUNTRY PTS REB;\n",
    "                 RUN;\"\"\"))"
   ]
  },
  {
   "cell_type": "code",
   "execution_count": 6,
   "id": "thermal-theory",
   "metadata": {},
   "outputs": [
    {
     "name": "stdout",
     "output_type": "stream",
     "text": [
      "NBA=NBA[['PLAYER','TEAM','COUNTRY','PTS','REB']]\n",
      "\n"
     ]
    }
   ],
   "source": [
    "print(translator(\"\"\"\n",
    "                 DATA NBA; set NBA;\n",
    "                 keep PLAYER TEAM COUNTRY PTS REB;\n",
    "                 RUN;\"\"\"))"
   ]
  },
  {
   "cell_type": "markdown",
   "id": "dress-percentage",
   "metadata": {},
   "source": [
    " - **Examples with WHERE statement**"
   ]
  },
  {
   "cell_type": "code",
   "execution_count": 7,
   "id": "hourly-batch",
   "metadata": {},
   "outputs": [
    {
     "name": "stdout",
     "output_type": "stream",
     "text": [
      "table=NBA.copy()\n",
      "table=table[table['age']>20]\n",
      "\n"
     ]
    }
   ],
   "source": [
    "print(translator(\"\"\"\n",
    "                 DATA table; set NBA;\n",
    "                 where age > 20;\n",
    "                 RUN;\"\"\"))"
   ]
  },
  {
   "cell_type": "code",
   "execution_count": 8,
   "id": "continental-ballot",
   "metadata": {},
   "outputs": [
    {
     "name": "stdout",
     "output_type": "stream",
     "text": [
      "table=NBA.copy()\n",
      "table=table[table['TEAM'].isin('CLE','GSW','OKC')]\n",
      "\n"
     ]
    }
   ],
   "source": [
    "print(translator(\"\"\"\n",
    "                 DATA table; set NBA;\n",
    "                 where TEAM in ('CLE', 'GSW', 'OKC');\n",
    "                 RUN;\"\"\"))"
   ]
  },
  {
   "cell_type": "code",
   "execution_count": 9,
   "id": "gothic-mexico",
   "metadata": {},
   "outputs": [
    {
     "name": "stdout",
     "output_type": "stream",
     "text": [
      "table=NBA.copy()\n",
      "table=table[((table['TEAM']==\"OKC\") & (table['COUNTRY']=='USA')) | (table['TEAM']==\"OKC\")]\n",
      "\n"
     ]
    }
   ],
   "source": [
    "print(translator(\"\"\"\n",
    "                 DATA table; set NBA;\n",
    "                 where (TEAM eq \"OKC\" and COUNTRY = 'USA') or TEAM = \"OKC\";\n",
    "                 RUN;\"\"\"))                "
   ]
  },
  {
   "cell_type": "code",
   "execution_count": 10,
   "id": "personal-crest",
   "metadata": {},
   "outputs": [
    {
     "name": "stdout",
     "output_type": "stream",
     "text": [
      "table=NBA.copy()\n",
      "table=table[(table['PTS']>=20) | (table['GP']<=50)]\n",
      "\n"
     ]
    }
   ],
   "source": [
    "print(translator(\"\"\"\n",
    "                 DATA table; set NBA;\n",
    "                 WHERE PTS ge 20 or GP le 50;\n",
    "                 RUN;\"\"\"))    "
   ]
  },
  {
   "cell_type": "markdown",
   "id": "certain-destiny",
   "metadata": {},
   "source": [
    " - **Examples with RENAME statement**"
   ]
  },
  {
   "cell_type": "code",
   "execution_count": 11,
   "id": "pointed-barcelona",
   "metadata": {},
   "outputs": [
    {
     "name": "stdout",
     "output_type": "stream",
     "text": [
      "table=NBA.copy()\n",
      "table=table.rename(columns:{'COUNTRY':'PAYS','PTS':'POINTS','GP':'MATCH_JOUE'})\n",
      "\n"
     ]
    }
   ],
   "source": [
    "print(translator(\"\"\"\n",
    "                 DATA table; set NBA;\n",
    "                 rename COUNTRY=PAYS PTS=POINTS GP=MATCH_JOUE;\n",
    "                 RUN;\n",
    "                 \"\"\"))"
   ]
  },
  {
   "cell_type": "markdown",
   "id": "legitimate-pricing",
   "metadata": {},
   "source": [
    " - **Examples with SUBSTR function**"
   ]
  },
  {
   "cell_type": "code",
   "execution_count": 12,
   "id": "junior-fetish",
   "metadata": {},
   "outputs": [
    {
     "name": "stdout",
     "output_type": "stream",
     "text": [
      "table=NBA.copy()\n",
      "table['new_name']=table['PLAYER'].str[5:]\n",
      "\n"
     ]
    }
   ],
   "source": [
    "print(translator(\"\"\"\n",
    "                 DATA table;set NBA;\n",
    "                 new_name = substr(PLAYER,6);\n",
    "                 RUN;\n",
    "                 \"\"\"))"
   ]
  },
  {
   "cell_type": "code",
   "execution_count": 13,
   "id": "suspected-arcade",
   "metadata": {},
   "outputs": [
    {
     "name": "stdout",
     "output_type": "stream",
     "text": [
      "NBA['new_name']=NBA['PLAYER'].str[:5]\n",
      "\n"
     ]
    }
   ],
   "source": [
    "print(translator(\"\"\"\n",
    "                 DATA NBA;set NBA;\n",
    "                 new_name = substr(PLAYER,1,5);\n",
    "                 RUN;\n",
    "                 \"\"\"))"
   ]
  },
  {
   "cell_type": "code",
   "execution_count": 14,
   "id": "amateur-calendar",
   "metadata": {},
   "outputs": [
    {
     "name": "stdout",
     "output_type": "stream",
     "text": [
      "NBA['new_name']=NBA['PLAYER'].str[2:8]\n",
      "\n"
     ]
    }
   ],
   "source": [
    "print(translator(\"\"\"\n",
    "                 DATA NBA;set NBA;\n",
    "                 new_name = substr(PLAYER,3,8);\n",
    "                 RUN;\n",
    "                 \"\"\"))"
   ]
  },
  {
   "cell_type": "markdown",
   "id": "psychological-crime",
   "metadata": {},
   "source": [
    "- **Examples with LOWCASE, UPCASE, INPUT and PUT functions**"
   ]
  },
  {
   "cell_type": "code",
   "execution_count": 15,
   "id": "gentle-decade",
   "metadata": {},
   "outputs": [
    {
     "name": "stdout",
     "output_type": "stream",
     "text": [
      "NBA['new_name']=NBA['PLAYER'].str.lower()\n",
      "\n"
     ]
    }
   ],
   "source": [
    "print(translator(\"\"\"\n",
    "                 DATA NBA;set NBA;\n",
    "                 new_name = lowcase(PLAYER);\n",
    "                 RUN;\n",
    "                 \"\"\"))"
   ]
  },
  {
   "cell_type": "code",
   "execution_count": 16,
   "id": "noble-procurement",
   "metadata": {},
   "outputs": [
    {
     "name": "stdout",
     "output_type": "stream",
     "text": [
      "NBA['new_name']=NBA['PLAYER'].str.upper()\n",
      "\n"
     ]
    }
   ],
   "source": [
    "print(translator(\"\"\"\n",
    "                 DATA NBA;set NBA;\n",
    "                 new_name = upcase(PLAYER);\n",
    "                 RUN;\n",
    "                 \"\"\"))"
   ]
  },
  {
   "cell_type": "code",
   "execution_count": 17,
   "id": "happy-williams",
   "metadata": {},
   "outputs": [
    {
     "name": "stdout",
     "output_type": "stream",
     "text": [
      "NBA['POINTS']=NBA['PTS'].astype(int)\n",
      "\n"
     ]
    }
   ],
   "source": [
    "print(translator(\"\"\"\n",
    "                 DATA NBA;set NBA;\n",
    "                 POINTS = input(PTS,5.);\n",
    "                 RUN;\n",
    "                 \"\"\"))"
   ]
  },
  {
   "cell_type": "code",
   "execution_count": 18,
   "id": "concrete-forum",
   "metadata": {},
   "outputs": [
    {
     "name": "stdout",
     "output_type": "stream",
     "text": [
      "NBA['MATCH_JOUE']=NBA['GP'].astype(str)\n",
      "\n"
     ]
    }
   ],
   "source": [
    "print(translator(\"\"\"\n",
    "                 DATA NBA;set NBA;\n",
    "                 MATCH_JOUE = put(GP,5.);\n",
    "                 RUN;\n",
    "                 \"\"\"))"
   ]
  },
  {
   "cell_type": "markdown",
   "id": "sunrise-luxury",
   "metadata": {},
   "source": [
    "## *You can also combine the different statements*"
   ]
  },
  {
   "cell_type": "code",
   "execution_count": 19,
   "id": "indian-semester",
   "metadata": {},
   "outputs": [
    {
     "name": "stdout",
     "output_type": "stream",
     "text": [
      "table=NBA.copy()\n",
      "table=table.rename(columns:{'COUNTRY':'PAYS'})\n",
      "table=table[(table['TEAM']==\"OKC\") | (table['TEAM']==\"CLE\")]\n",
      "table['JOUEUR']=table['PLAYER'].str[5:]\n",
      "table=table[['JOUEUR','TEAM']]\n",
      "\n"
     ]
    }
   ],
   "source": [
    "print(translator(\"\"\"\n",
    "                DATA table; set NBA ;\n",
    "                rename COUNTRY=PAYS;\n",
    "                where TEAM=\"OKC\" or TEAM=\"CLE\";\n",
    "                JOUEUR = substr(PLAYER,6);\n",
    "                keep JOUEUR TEAM;                \n",
    "                RUN;\n",
    "                \"\"\"))"
   ]
  },
  {
   "cell_type": "markdown",
   "id": "incident-outreach",
   "metadata": {},
   "source": [
    "# *Examples with PROC step*"
   ]
  },
  {
   "cell_type": "markdown",
   "id": "alone-melissa",
   "metadata": {},
   "source": [
    " - **Examples with PROC FREQ**"
   ]
  },
  {
   "cell_type": "code",
   "execution_count": 20,
   "id": "determined-candidate",
   "metadata": {},
   "outputs": [
    {
     "name": "stdout",
     "output_type": "stream",
     "text": [
      "datax =NBA['PTS'].value_counts(dropna = False)\n",
      "datay = pandas.DataFrame({'PTS': datax.index, 'Frequency': datax.values,'Percent': ((datax.values/datax.values.sum())*100).round(2),'Cumulative Frequency': datax.values.cumsum(),'Cumulative Percent': ((datax.values.cumsum()/datax.values.sum())*100).round(2)})\n",
      "\n"
     ]
    }
   ],
   "source": [
    "print(translator(\"\"\"\n",
    "                PROC FREQ  data = NBA ;\n",
    "                table PTS;\n",
    "                RUN;\n",
    "                \"\"\"))"
   ]
  },
  {
   "cell_type": "markdown",
   "id": "fantastic-saver",
   "metadata": {},
   "source": [
    "> Contingency table"
   ]
  },
  {
   "cell_type": "code",
   "execution_count": 21,
   "id": "bigger-laser",
   "metadata": {},
   "outputs": [
    {
     "name": "stdout",
     "output_type": "stream",
     "text": [
      "\n",
      "def frequency(ds, vars):\n",
      "    if len(vars) > 1:\n",
      "        c1 = ds[vars[0]]\n",
      "        c2 = []\n",
      "        for i in range(1,len(vars)):\n",
      "            c2.append(ds[vars[i]])\n",
      "        dfs = []\n",
      "        dfs.append(pd.crosstab(c1,c2).unstack().reset_index().rename(columns={0:'Count'}))\n",
      "        dfs.append(pd.crosstab(c1,c2, normalize='all').unstack().reset_index().rename(columns={0:'Percent'}))\n",
      "        dfs.append(pd.crosstab(c1,c2, normalize='columns').unstack().reset_index().rename(columns={0:'Column Percent'}))\n",
      "        dfs.append(pd.crosstab(c1,c2, normalize='index').unstack().reset_index().rename(columns={0:'Row Percent'}))\n",
      "        dfs = [df.set_index(vars) for df in dfs]\n",
      "        df = dfs[0].join(dfs[1:]).reset_index()\n",
      "        return df\n",
      "            \n",
      "frequency(NBA,['PTS','TEAM'])\n",
      "\n"
     ]
    }
   ],
   "source": [
    "print(translator(\"\"\"\n",
    "                PROC FREQ  data = NBA ;\n",
    "                table PTS*TEAM;\n",
    "                RUN;\n",
    "                \"\"\"))"
   ]
  },
  {
   "cell_type": "markdown",
   "id": "metric-glance",
   "metadata": {},
   "source": [
    " - **Examples with  PROC MEANS**"
   ]
  },
  {
   "cell_type": "code",
   "execution_count": 22,
   "id": "accepting-liberia",
   "metadata": {},
   "outputs": [
    {
     "name": "stdout",
     "output_type": "stream",
     "text": [
      "NBA[['PTS','REB']].describe()\n",
      "\n"
     ]
    }
   ],
   "source": [
    "print(translator(\"\"\"\n",
    "                 PROC MEANS  data = NBA  ;\n",
    "                 var PTS REB ;\n",
    "                 RUN;\n",
    "                 \"\"\"))"
   ]
  },
  {
   "cell_type": "code",
   "execution_count": 23,
   "id": "interior-evidence",
   "metadata": {},
   "outputs": [
    {
     "name": "stdout",
     "output_type": "stream",
     "text": [
      "NBA.groupby('TEAM')[['PTS','REB']].describe()\n",
      "\n"
     ]
    }
   ],
   "source": [
    "print(translator(\"\"\"\n",
    "                PROC MEANS  data = NBA  ;\n",
    "                class TEAM;\n",
    "                var PTS REB ;\n",
    "                RUN;\n",
    "                \"\"\"))"
   ]
  },
  {
   "cell_type": "markdown",
   "id": "logical-average",
   "metadata": {},
   "source": [
    "> PROC MEANS with nmiss option"
   ]
  },
  {
   "cell_type": "code",
   "execution_count": 24,
   "id": "marked-franklin",
   "metadata": {},
   "outputs": [
    {
     "name": "stdout",
     "output_type": "stream",
     "text": [
      "NBA.groupby('TEAM')[['PTS','REB']].describe()\n",
      "nmiss=NBA[['PTS','REB']].isnull().sum()\n",
      "print(nmiss)\n",
      "\n"
     ]
    }
   ],
   "source": [
    "print(translator(\"\"\"\n",
    "                PROC MEANS  data = NBA  nmiss;\n",
    "                class TEAM;\n",
    "                var PTS REB ;\n",
    "                RUN;\n",
    "                 \"\"\"))"
   ]
  }
 ],
 "metadata": {
  "kernelspec": {
   "display_name": "Python 3",
   "language": "python",
   "name": "python3"
  },
  "language_info": {
   "codemirror_mode": {
    "name": "ipython",
    "version": 3
   },
   "file_extension": ".py",
   "mimetype": "text/x-python",
   "name": "python",
   "nbconvert_exporter": "python",
   "pygments_lexer": "ipython3",
   "version": "3.8.8"
  },
  "toc-autonumbering": false,
  "toc-showmarkdowntxt": true
 },
 "nbformat": 4,
 "nbformat_minor": 5
}
