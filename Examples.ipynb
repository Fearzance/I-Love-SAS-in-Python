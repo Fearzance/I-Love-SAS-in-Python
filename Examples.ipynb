{
 "cells": [
  {
   "cell_type": "markdown",
   "id": "exempt-friendly",
   "metadata": {},
   "source": [
    "**Alexandre HUANG  \n",
    "Kevin KAMALANATHAN**"
   ]
  },
  {
   "cell_type": "markdown",
   "id": "great-raising",
   "metadata": {},
   "source": [
    "<div align=\"center\"><span style=\"font-family:Lucida Caligraphy;font-size:32px;color:#FA8072\">Examples with DATA & PROC steps</span></div><br><br>"
   ]
  },
  {
   "cell_type": "markdown",
   "id": "sunset-senate",
   "metadata": {},
   "source": [
    "# *What is this notebook for?*"
   ]
  },
  {
   "cell_type": "markdown",
   "id": "light-venezuela",
   "metadata": {},
   "source": [
    "In this notebook you will find various examples of translations of the DATA and PROC steps.\n",
    "For the moment, the python function \"TRANSLATOR\" that we have created translates the following statements in the DATA step: DROP, KEEP, WHERE, IF ELSE IF ELSE and RENAME but also the SAS SUBSTR function and it also translates two procedures: PROC MEANS and the PROC FREQ."
   ]
  },
  {
   "cell_type": "markdown",
   "id": "alternate-enhancement",
   "metadata": {},
   "source": [
    "# *Import of functions from the Function_analyzer program allowing the translation of SAS codes*"
   ]
  },
  {
   "cell_type": "code",
   "execution_count": 1,
   "id": "specific-robertson",
   "metadata": {},
   "outputs": [],
   "source": [
    "import sys\n",
    "\n",
    "#Put your path in order to access the python programs Functions_analyzer\n",
    "sys.path.append(\"I_Love_SAS_in_Python/Functions_analyzer.py\")\n",
    "\n",
    "from Functions_analyzer import data_drop, data_keep, data_rename, data_where, data_if, tab_out, tab_in, translator, proc_freq,proc_means \n"
   ]
  },
  {
   "cell_type": "markdown",
   "id": "beginning-seeking",
   "metadata": {},
   "source": [
    "# *Examples with DATA step*"
   ]
  },
  {
   "cell_type": "markdown",
   "id": "duplicate-constraint",
   "metadata": {},
   "source": [
    " - **DATA SET only**"
   ]
  },
  {
   "cell_type": "code",
   "execution_count": 2,
   "id": "harmful-interview",
   "metadata": {},
   "outputs": [
    {
     "name": "stdout",
     "output_type": "stream",
     "text": [
      "test=test2.copy()\n"
     ]
    }
   ],
   "source": [
    "print (translator(\"\"\"\n",
    "                  data test; set test2;\n",
    "                  run;\"\"\"))"
   ]
  },
  {
   "cell_type": "markdown",
   "id": "random-classic",
   "metadata": {},
   "source": [
    " - **Example with DROP statement**"
   ]
  },
  {
   "cell_type": "code",
   "execution_count": 3,
   "id": "polyphonic-sugar",
   "metadata": {},
   "outputs": [
    {
     "name": "stdout",
     "output_type": "stream",
     "text": [
      "table_1=table_0.copy()\n",
      "table_1=table_1.drop(columns=['age','sex','name'])\n"
     ]
    }
   ],
   "source": [
    "print(translator(\"\"\"\n",
    "                 Data table_1; set table_0;\n",
    "                 drop age sex name;\n",
    "                 Run;\"\"\"))"
   ]
  },
  {
   "cell_type": "code",
   "execution_count": 4,
   "id": "leading-union",
   "metadata": {},
   "outputs": [
    {
     "name": "stdout",
     "output_type": "stream",
     "text": [
      "table_1=table_1.drop(columns=['age','sex','name'])\n"
     ]
    }
   ],
   "source": [
    "print(translator(\"\"\"\n",
    "                 Data table_1; set table_1;\n",
    "                 drop age sex name;\n",
    "                 Run;\"\"\"))"
   ]
  },
  {
   "cell_type": "markdown",
   "id": "removable-postage",
   "metadata": {},
   "source": [
    " - **Example with KEEP statement**"
   ]
  },
  {
   "cell_type": "code",
   "execution_count": 5,
   "id": "norman-entertainment",
   "metadata": {},
   "outputs": [
    {
     "name": "stdout",
     "output_type": "stream",
     "text": [
      "table_1=table_0.copy()\n",
      "table_1=table_1[['age','sex','name']]\n"
     ]
    }
   ],
   "source": [
    "print(translator(\"\"\"\n",
    "                 Data table_1; set table_0;\n",
    "                 keep age sex name;\n",
    "                 Run;\"\"\"))"
   ]
  },
  {
   "cell_type": "code",
   "execution_count": 6,
   "id": "humanitarian-italian",
   "metadata": {},
   "outputs": [
    {
     "name": "stdout",
     "output_type": "stream",
     "text": [
      "table_1=table_1[['age','sex','name']]\n"
     ]
    }
   ],
   "source": [
    "print(translator(\"\"\"\n",
    "                 Data table_1; set table_1;\n",
    "                 keep age sex name;\n",
    "                 Run;\"\"\"))"
   ]
  },
  {
   "cell_type": "markdown",
   "id": "appropriate-lighting",
   "metadata": {},
   "source": [
    " - **Example with WHERE statement**"
   ]
  },
  {
   "cell_type": "code",
   "execution_count": 7,
   "id": "forty-adjustment",
   "metadata": {},
   "outputs": [
    {
     "name": "stdout",
     "output_type": "stream",
     "text": [
      "\n",
      "table_1=table_0.copy()\n",
      "table_1=table_1[table_1['age']==10]\n"
     ]
    }
   ],
   "source": [
    "print(translator(\"\"\"\n",
    "                 Data table_1; set table_0;\n",
    "                 where age=10;\n",
    "                 Run;\"\"\"))"
   ]
  },
  {
   "cell_type": "code",
   "execution_count": 8,
   "id": "embedded-recorder",
   "metadata": {},
   "outputs": [
    {
     "name": "stdout",
     "output_type": "stream",
     "text": [
      "\n",
      "table_1=table_1[table_1['age']>10]\n"
     ]
    }
   ],
   "source": [
    "print(translator(\"\"\"\n",
    "                 Data table_1; set table_1;\n",
    "                 where age>10;\n",
    "                 Run;\"\"\"))"
   ]
  },
  {
   "cell_type": "code",
   "execution_count": 9,
   "id": "packed-mediterranean",
   "metadata": {},
   "outputs": [
    {
     "name": "stdout",
     "output_type": "stream",
     "text": [
      "\n",
      "table_1=table_0.copy()\n",
      "table_1=table_1[table_1['name']==\"val-de-marne\"]\n"
     ]
    }
   ],
   "source": [
    "print(translator(\"\"\"\n",
    "                 Data table_1; set table_0;\n",
    "                 where name=\"val-de-marne\";\n",
    "                 Run;\"\"\"))                "
   ]
  },
  {
   "cell_type": "code",
   "execution_count": 10,
   "id": "comfortable-customs",
   "metadata": {},
   "outputs": [
    {
     "name": "stdout",
     "output_type": "stream",
     "text": [
      "\n",
      "table_1=table_0.copy()\n",
      "table_1=table_1[(table_1['name']==\"val-de-marne\") & (table_1['population']<=100000)]\n"
     ]
    }
   ],
   "source": [
    "print(translator(\"\"\"\n",
    "                 Data table_1; set table_0;\n",
    "                 where name=\"val-de-marne\" and population<=100000;\n",
    "                 Run;\"\"\"))"
   ]
  },
  {
   "cell_type": "markdown",
   "id": "deluxe-exclusion",
   "metadata": {},
   "source": [
    " - **Example with IF - ELSE IF - ELSE statement**"
   ]
  },
  {
   "cell_type": "code",
   "execution_count": 11,
   "id": "champion-prime",
   "metadata": {},
   "outputs": [
    {
     "name": "stdout",
     "output_type": "stream",
     "text": [
      "def condition(x):\n",
      "    if (x ==\"female\"):\n",
      "        return \"femme\"\n",
      "    elif (x ==\"male\"):\n",
      "         return \"homme\"\n",
      "    else:\n",
      "        return \"inconnu\"\n",
      "table_1=table_0.copy()\n",
      "table_1['sexe'] =table_1['sex'].apply(condition)\n"
     ]
    }
   ],
   "source": [
    "print(translator(\"\"\"\n",
    "                 Data table_1; set table_0;\n",
    "                 if sex = \"female\" then sexe= \"femme\" ; \n",
    "                 else if sex= \"male\" then sexe = \"homme\";\n",
    "                 else sexe = \"inconnu\";\n",
    "                 Run;\n",
    "                 \"\"\"))"
   ]
  },
  {
   "cell_type": "code",
   "execution_count": 12,
   "id": "cooked-variation",
   "metadata": {},
   "outputs": [
    {
     "name": "stdout",
     "output_type": "stream",
     "text": [
      "def condition(x):\n",
      "    if (x <=100) :\n",
      "        return 0\n",
      "    elif (x>200):\n",
      "         return 1\n",
      "    else:\n",
      "        return 2\n",
      "table_1['dummy_price'] =table_1['price'].apply(condition)\n"
     ]
    }
   ],
   "source": [
    "print(translator(\"\"\"\n",
    "                 Data table_1; set table_1;\n",
    "                 if price <= 100 then dummy_price = 0 ; \n",
    "                 else if price > 200 then dummy_price = 1;\n",
    "                 else dummy_price = 2;\n",
    "                 Run;\n",
    "                 \"\"\"))"
   ]
  },
  {
   "cell_type": "code",
   "execution_count": 13,
   "id": "funky-opposition",
   "metadata": {},
   "outputs": [
    {
     "name": "stdout",
     "output_type": "stream",
     "text": [
      "def condition(x):\n",
      "    if (x ==\"female\"):\n",
      "        return \"femme\"\n",
      "    else:\n",
      "        return \"homme\"\n",
      "table_1=table_0.copy()\n",
      "table_1['sexe'] =table_1['sex'].apply(condition)\n"
     ]
    }
   ],
   "source": [
    "print(translator(\"\"\"\n",
    "                 Data table_1; set table_0;\n",
    "                 if sex = \"female\" then sexe= \"femme\" ; \n",
    "                 else sexe = \"homme\";\n",
    "                 Run;\n",
    "                 \"\"\"))"
   ]
  },
  {
   "cell_type": "code",
   "execution_count": 14,
   "id": "secondary-sally",
   "metadata": {},
   "outputs": [
    {
     "name": "stdout",
     "output_type": "stream",
     "text": [
      "def condition(x):\n",
      "    if (x ==\"female\"):\n",
      "        return \"femme\"\n",
      "    elif (x ==\"male\"):\n",
      "         return \"homme\"\n",
      "table_1=table_0.copy()\n",
      "table_1['sexe'] =table_1['sex'].apply(condition)\n"
     ]
    }
   ],
   "source": [
    "print(translator(\"\"\"\n",
    "                 Data table_1; set table_0;\n",
    "                 if sex = \"female\" then sexe= \"femme\" ; \n",
    "                 else if sex= \"male\" then sexe = \"homme\";\n",
    "                 Run;\n",
    "                 \"\"\"))"
   ]
  },
  {
   "cell_type": "code",
   "execution_count": 15,
   "id": "accessory-uncle",
   "metadata": {},
   "outputs": [
    {
     "name": "stdout",
     "output_type": "stream",
     "text": [
      "\n",
      "table_1=table_0.copy()\n",
      "table_1=table_1[table_1['sex']==\"female\"]\n"
     ]
    }
   ],
   "source": [
    "print(translator(\"\"\"\n",
    "                 Data table_1; set table_0;\n",
    "                 if sex = \"female\" ; \n",
    "                 Run;\n",
    "                 \"\"\"))"
   ]
  },
  {
   "cell_type": "markdown",
   "id": "mineral-drilling",
   "metadata": {},
   "source": [
    " - **Example with RENAME statement**"
   ]
  },
  {
   "cell_type": "code",
   "execution_count": 16,
   "id": "clean-header",
   "metadata": {},
   "outputs": [
    {
     "name": "stdout",
     "output_type": "stream",
     "text": [
      "table_1=table_1.rename(columns={'name':'nom','height':'taille','weight':'poids'})\n"
     ]
    }
   ],
   "source": [
    "print(translator(\"\"\"\n",
    "                 Data table_1; set table_1;\n",
    "                 rename name=nom height=taille weight=poids;\n",
    "                 Run;\n",
    "                 \"\"\"))"
   ]
  },
  {
   "cell_type": "markdown",
   "id": "metric-adrian",
   "metadata": {},
   "source": [
    " - **Example with SUBSTR function**"
   ]
  },
  {
   "cell_type": "code",
   "execution_count": 17,
   "id": "whole-ballet",
   "metadata": {},
   "outputs": [
    {
     "name": "stdout",
     "output_type": "stream",
     "text": [
      "\n",
      "table2=table1.copy()\n",
      "table2[\"new_name\"] = table2[\"name\"].str[5:]\n"
     ]
    }
   ],
   "source": [
    "print(translator(\"\"\"\n",
    "                 DATA table2;set table1;\n",
    "                 new_name = substr(name,6);\n",
    "                 RUN;\n",
    "                 \"\"\"))"
   ]
  },
  {
   "cell_type": "markdown",
   "id": "quick-discipline",
   "metadata": {},
   "source": [
    "## *You can also combine the different statements*"
   ]
  },
  {
   "cell_type": "code",
   "execution_count": 18,
   "id": "unable-tuition",
   "metadata": {},
   "outputs": [
    {
     "name": "stdout",
     "output_type": "stream",
     "text": [
      "table5=table2.copy()\n",
      "table5=table5.drop(columns=['age','sex','var3','var4'])\n",
      "table5=table5[['prix','vente','moy']]\n",
      "\n",
      "table5=table2[table2['age']==\"12\"]\n",
      "table5=table5.rename(columns={'name':'nom','height':'taille','weight':'poids'})\n",
      "def condition(x):\n",
      "    if (x =='female') :\n",
      "        return 'femme'\n",
      "    else:\n",
      "        return 'homme'\n",
      "table5['sexe'] =table5['sex'].apply(condition)\n",
      "\n",
      "table5[\"new_name\"] = table5[\"name\"].str[5:]\n"
     ]
    }
   ],
   "source": [
    "print(translator(\"\"\"\n",
    "                DATA table5; set table2 ;\n",
    "                RENAME name=nom height=taille weight=poids;\n",
    "                KEEP prix vente moy ;\n",
    "                DROP age sex var3   var4;\n",
    "                where age = \"12\";\n",
    "                IF sex ='female' THEN sexe='femme'; \n",
    "                ELSE sexe='homme';\n",
    "                new_name = substr(name,6);\n",
    "                RUN;\n",
    "                \"\"\"))"
   ]
  },
  {
   "cell_type": "markdown",
   "id": "dated-webmaster",
   "metadata": {},
   "source": [
    "# *Examples with PROC step*"
   ]
  },
  {
   "cell_type": "markdown",
   "id": "israeli-retail",
   "metadata": {},
   "source": [
    " - **Example with PROC FREQ**"
   ]
  },
  {
   "cell_type": "code",
   "execution_count": 19,
   "id": "balanced-junior",
   "metadata": {},
   "outputs": [
    {
     "name": "stdout",
     "output_type": "stream",
     "text": [
      "datax =class['sex'].value_counts(dropna = False)\n",
      "datay = pandas.DataFrame({'sex': datax.index, 'Frequency': datax.values,'Percent': ((datax.values/datax.values.sum())*100).round(2),'Cumulative Frequency': datax.values.cumsum(),'Cumulative Percent': ((datax.values.cumsum()/datax.values.sum())*100).round(2)})\n"
     ]
    }
   ],
   "source": [
    "print(translator(\"\"\"\n",
    "                proc freq   data = class ;\n",
    "                table sex  ;\n",
    "                run;\n",
    "                \"\"\"))"
   ]
  },
  {
   "cell_type": "markdown",
   "id": "reliable-beaver",
   "metadata": {},
   "source": [
    "> Contingency table"
   ]
  },
  {
   "cell_type": "code",
   "execution_count": 20,
   "id": "verified-minutes",
   "metadata": {},
   "outputs": [
    {
     "name": "stdout",
     "output_type": "stream",
     "text": [
      "\n",
      "def frequency(ds, vars):\n",
      "    if len(vars) > 1:\n",
      "        c1 = ds[vars[0]]\n",
      "        c2 = []\n",
      "        for i in range(1,len(vars)):\n",
      "            c2.append(ds[vars[i]])\n",
      "        dfs = []\n",
      "        dfs.append(pd.crosstab(c1,c2).unstack().reset_index().rename(columns={0:'Count'}))\n",
      "        dfs.append(pd.crosstab(c1,c2, normalize='all').unstack().reset_index().rename(columns={0:'Percent'}))\n",
      "        dfs.append(pd.crosstab(c1,c2, normalize='columns').unstack().reset_index().rename(columns={0:'Column Percent'}))\n",
      "        dfs.append(pd.crosstab(c1,c2, normalize='index').unstack().reset_index().rename(columns={0:'Row Percent'}))\n",
      "        dfs = [df.set_index(vars) for df in dfs]\n",
      "        df = dfs[0].join(dfs[1:]).reset_index()\n",
      "        return df\n",
      "            \n",
      "frequency(class,['sex','age'])\n"
     ]
    }
   ],
   "source": [
    "print(translator(\"\"\"\n",
    "                proc freq   data = class ;\n",
    "                table sex*age  ;\n",
    "                run;\n",
    "                \"\"\"))"
   ]
  },
  {
   "cell_type": "markdown",
   "id": "significant-giant",
   "metadata": {},
   "source": [
    " - **Example with  PROC MEANS**"
   ]
  },
  {
   "cell_type": "code",
   "execution_count": 21,
   "id": "international-coordinator",
   "metadata": {},
   "outputs": [
    {
     "name": "stdout",
     "output_type": "stream",
     "text": [
      "cars[['invoice','age']].describe()\n"
     ]
    }
   ],
   "source": [
    "print(translator(\"\"\"\n",
    "                 proc means   data = cars  ;\n",
    "                 var invoice age ;\n",
    "                 run;\n",
    "                 \"\"\"))"
   ]
  },
  {
   "cell_type": "code",
   "execution_count": 22,
   "id": "powered-tampa",
   "metadata": {},
   "outputs": [
    {
     "name": "stdout",
     "output_type": "stream",
     "text": [
      "cars.groupby('model')[['invoice','age']].describe()\n"
     ]
    }
   ],
   "source": [
    "print(translator(\"\"\"\n",
    "                 proc means   data = cars  ;\n",
    "                 class model ;\n",
    "                 var invoice age ;\n",
    "                 run;\n",
    "                 \"\"\"))"
   ]
  },
  {
   "cell_type": "markdown",
   "id": "legitimate-rubber",
   "metadata": {},
   "source": [
    "> PROC MEANS with nmiss option"
   ]
  },
  {
   "cell_type": "code",
   "execution_count": 23,
   "id": "sunrise-fifth",
   "metadata": {},
   "outputs": [
    {
     "name": "stdout",
     "output_type": "stream",
     "text": [
      "cars.groupby('model')[['invoice','age']].describe()\n",
      "nmiss=cars[['invoice','age']].isnull().sum()\n",
      "print(nmiss)\n"
     ]
    }
   ],
   "source": [
    "print(translator(\"\"\"\n",
    "                 proc means   data = cars nmiss ;\n",
    "                 class model;\n",
    "                 var invoice age ;\n",
    "                 run;\n",
    "                 \"\"\"))"
   ]
  }
 ],
 "metadata": {
  "kernelspec": {
   "display_name": "Python 3",
   "language": "python",
   "name": "python3"
  },
  "language_info": {
   "codemirror_mode": {
    "name": "ipython",
    "version": 3
   },
   "file_extension": ".py",
   "mimetype": "text/x-python",
   "name": "python",
   "nbconvert_exporter": "python",
   "pygments_lexer": "ipython3",
   "version": "3.8.8"
  },
  "toc-autonumbering": false,
  "toc-showmarkdowntxt": true
 },
 "nbformat": 4,
 "nbformat_minor": 5
}
