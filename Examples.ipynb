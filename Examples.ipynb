{
 "cells": [
  {
   "cell_type": "markdown",
   "id": "reflected-agent",
   "metadata": {},
   "source": [
    "**Alexandre HUANG  \n",
    "Kevin KAMALANATHAN**"
   ]
  },
  {
   "cell_type": "markdown",
   "id": "sharp-truck",
   "metadata": {},
   "source": [
    "<div align=\"center\"><span style=\"font-family:Lucida Caligraphy;font-size:32px;color:#FA8072\">Examples with DATA & PROC steps</span></div><br><br>"
   ]
  },
  {
   "cell_type": "markdown",
   "id": "typical-assets",
   "metadata": {},
   "source": [
    "# *What is this notebook for?*"
   ]
  },
  {
   "cell_type": "markdown",
   "id": "tested-success",
   "metadata": {},
   "source": [
    "In this notebook you will find various examples of translations of the DATA and PROC steps.\n",
    "For the moment, the python function \"TRANSLATOR\" that we have created translates the following statements in the DATA step: DROP, KEEP, WHERE, IF ELSE IF ELSE and RENAME but also the SAS SUBSTR function and it also translates two procedures: PROC MEANS and the PROC FREQ."
   ]
  },
  {
   "cell_type": "markdown",
   "id": "waiting-ukraine",
   "metadata": {},
   "source": [
    "# *Import of functions from the Function_analyzer program allowing the translation of SAS codes*"
   ]
  },
  {
   "cell_type": "code",
   "execution_count": null,
   "id": "absent-drawing",
   "metadata": {},
   "outputs": [],
   "source": [
    "import sys\n",
    "\n",
    "#Put your path in order to access the python programs Functions_analyzer\n",
    "sys.path.append(\"I_Love_SAS_in_Python/Functions_analyzer.py\")\n",
    "\n",
    "from Functions_analyzer import data_drop, data_keep, data_rename, data_where, data_if, tab_out, tab_in, translator, proc_freq,proc_means \n"
   ]
  },
  {
   "cell_type": "markdown",
   "id": "labeled-spectacular",
   "metadata": {},
   "source": [
    "# *Examples with DATA step*"
   ]
  },
  {
   "cell_type": "markdown",
   "id": "missing-visitor",
   "metadata": {},
   "source": [
    " - **DATA SET only**"
   ]
  },
  {
   "cell_type": "code",
   "execution_count": null,
   "id": "governing-nebraska",
   "metadata": {},
   "outputs": [],
   "source": [
    "print (translator(\"\"\"\n",
    "                  data test; set test2;\n",
    "                  run;\"\"\"))"
   ]
  },
  {
   "cell_type": "markdown",
   "id": "cardiac-characterization",
   "metadata": {},
   "source": [
    " - **Example with DROP statement**"
   ]
  },
  {
   "cell_type": "code",
   "execution_count": null,
   "id": "handy-palace",
   "metadata": {},
   "outputs": [],
   "source": [
    "print(translator(\"\"\"\n",
    "                 Data table_1; set table_0;\n",
    "                 drop age sex name;\n",
    "                 Run;\"\"\"))"
   ]
  },
  {
   "cell_type": "code",
   "execution_count": null,
   "id": "collected-throw",
   "metadata": {},
   "outputs": [],
   "source": [
    "print(translator(\"\"\"\n",
    "                 Data table_1; set table_1;\n",
    "                 drop age sex name;\n",
    "                 Run;\"\"\"))"
   ]
  },
  {
   "cell_type": "markdown",
   "id": "split-hydrogen",
   "metadata": {},
   "source": [
    " - **Example with KEEP statement**"
   ]
  },
  {
   "cell_type": "code",
   "execution_count": null,
   "id": "lesser-first",
   "metadata": {},
   "outputs": [],
   "source": [
    "print(translator(\"\"\"\n",
    "                 Data table_1; set table_0;\n",
    "                 keep age sex name;\n",
    "                 Run;\"\"\"))"
   ]
  },
  {
   "cell_type": "code",
   "execution_count": null,
   "id": "suspended-correlation",
   "metadata": {},
   "outputs": [],
   "source": [
    "print(translator(\"\"\"\n",
    "                 Data table_1; set table_1;\n",
    "                 keep age sex name;\n",
    "                 Run;\"\"\"))"
   ]
  },
  {
   "cell_type": "markdown",
   "id": "special-insight",
   "metadata": {},
   "source": [
    " - **Example with WHERE statement**"
   ]
  },
  {
   "cell_type": "code",
   "execution_count": null,
   "id": "female-fourth",
   "metadata": {},
   "outputs": [],
   "source": [
    "print(translator(\"\"\"\n",
    "                 Data table_1; set table_0;\n",
    "                 where age=10;\n",
    "                 Run;\"\"\"))"
   ]
  },
  {
   "cell_type": "code",
   "execution_count": null,
   "id": "hourly-compensation",
   "metadata": {},
   "outputs": [],
   "source": [
    "print(translator(\"\"\"\n",
    "                 Data table_1; set table_1;\n",
    "                 where age>10;\n",
    "                 Run;\"\"\"))"
   ]
  },
  {
   "cell_type": "code",
   "execution_count": null,
   "id": "involved-orbit",
   "metadata": {},
   "outputs": [],
   "source": [
    "print(translator(\"\"\"\n",
    "                 Data table_1; set table_0;\n",
    "                 where name=\"val-de-marne\";\n",
    "                 Run;\"\"\"))                "
   ]
  },
  {
   "cell_type": "code",
   "execution_count": null,
   "id": "employed-fifth",
   "metadata": {},
   "outputs": [],
   "source": [
    "print(translator(\"\"\"\n",
    "                 Data table_1; set table_0;\n",
    "                 where name=\"val-de-marne\" and population<=100000;\n",
    "                 Run;\"\"\"))"
   ]
  },
  {
   "cell_type": "markdown",
   "id": "iraqi-merchant",
   "metadata": {},
   "source": [
    " - **Example with IF - ELSE IF - ELSE statement**"
   ]
  },
  {
   "cell_type": "code",
   "execution_count": null,
   "id": "ongoing-stephen",
   "metadata": {},
   "outputs": [],
   "source": [
    "print(translator(\"\"\"\n",
    "                 Data table_1; set table_0;\n",
    "                 if sex = \"female\" then sexe= \"femme\" ; \n",
    "                 else if sex= \"male\" then sexe = \"homme\";\n",
    "                 else sexe = \"inconnu\";\n",
    "                 Run;\n",
    "                 \"\"\"))"
   ]
  },
  {
   "cell_type": "code",
   "execution_count": null,
   "id": "related-albuquerque",
   "metadata": {},
   "outputs": [],
   "source": [
    "print(translator(\"\"\"\n",
    "                 Data table_1; set table_1;\n",
    "                 if price <= 100 then dummy_price = 0 ; \n",
    "                 else if price > 200 then dummy_price = 1;\n",
    "                 else dummy_price = 2;\n",
    "                 Run;\n",
    "                 \"\"\"))"
   ]
  },
  {
   "cell_type": "code",
   "execution_count": null,
   "id": "toxic-nation",
   "metadata": {},
   "outputs": [],
   "source": [
    "print(translator(\"\"\"\n",
    "                 Data table_1; set table_0;\n",
    "                 if sex = \"female\" then sexe= \"femme\" ; \n",
    "                 else sexe = \"homme\";\n",
    "                 Run;\n",
    "                 \"\"\"))"
   ]
  },
  {
   "cell_type": "code",
   "execution_count": null,
   "id": "behavioral-chart",
   "metadata": {},
   "outputs": [],
   "source": [
    "print(translator(\"\"\"\n",
    "                 Data table_1; set table_0;\n",
    "                 if sex = \"female\" then sexe= \"femme\" ; \n",
    "                 else if sex= \"male\" then sexe = \"homme\";\n",
    "                 Run;\n",
    "                 \"\"\"))"
   ]
  },
  {
   "cell_type": "code",
   "execution_count": null,
   "id": "drawn-anchor",
   "metadata": {},
   "outputs": [],
   "source": [
    "print(translator(\"\"\"\n",
    "                 Data table_1; set table_0;\n",
    "                 if sex = \"female\" ; \n",
    "                 Run;\n",
    "                 \"\"\"))"
   ]
  },
  {
   "cell_type": "markdown",
   "id": "substantial-eleven",
   "metadata": {},
   "source": [
    " - **Example with RENAME statement**"
   ]
  },
  {
   "cell_type": "code",
   "execution_count": null,
   "id": "theoretical-minority",
   "metadata": {},
   "outputs": [],
   "source": [
    "print(translator(\"\"\"\n",
    "                 Data table_1; set table_1;\n",
    "                 rename name=nom height=taille weight=poids;\n",
    "                 Run;\n",
    "                 \"\"\"))"
   ]
  },
  {
   "cell_type": "markdown",
   "id": "pleasant-myanmar",
   "metadata": {},
   "source": [
    " - **Example with SUBSTR function**"
   ]
  },
  {
   "cell_type": "code",
   "execution_count": null,
   "id": "baking-muscle",
   "metadata": {},
   "outputs": [],
   "source": [
    "print(translator(\"\"\"\n",
    "                 DATA table2;set table1;\n",
    "                 new_name = substr(name,6);\n",
    "                 RUN;\n",
    "                 \"\"\"))"
   ]
  },
  {
   "cell_type": "markdown",
   "id": "delayed-viewer",
   "metadata": {},
   "source": [
    "## *You can also combine the different statements*"
   ]
  },
  {
   "cell_type": "code",
   "execution_count": null,
   "id": "known-microwave",
   "metadata": {},
   "outputs": [],
   "source": [
    "print(translator(\"\"\"\n",
    "                DATA table5; set table2 ;\n",
    "                RENAME name=nom height=taille weight=poids;\n",
    "                KEEP prix vente moy ;\n",
    "                DROP age sex var3   var4;\n",
    "                where age = \"12\";\n",
    "                IF sex ='female' THEN sexe='femme'; \n",
    "                ELSE sexe='homme';\n",
    "                new_name = substr(name,6);\n",
    "                RUN;\n",
    "                \"\"\"))"
   ]
  },
  {
   "cell_type": "markdown",
   "id": "employed-reading",
   "metadata": {},
   "source": [
    "# *Examples with PROC step*"
   ]
  },
  {
   "cell_type": "markdown",
   "id": "noble-magic",
   "metadata": {},
   "source": [
    " - **Example with PROC FREQ**"
   ]
  },
  {
   "cell_type": "code",
   "execution_count": null,
   "id": "complex-drilling",
   "metadata": {},
   "outputs": [],
   "source": [
    "print(translator(\"\"\"\n",
    "                proc freq   data = class ;\n",
    "                table sex  ;\n",
    "                run;\n",
    "                \"\"\"))"
   ]
  },
  {
   "cell_type": "markdown",
   "id": "loaded-organizer",
   "metadata": {},
   "source": [
    "> Contingency table"
   ]
  },
  {
   "cell_type": "code",
   "execution_count": null,
   "id": "unique-carter",
   "metadata": {},
   "outputs": [],
   "source": [
    "print(translator(\"\"\"\n",
    "                proc freq   data = class ;\n",
    "                table sex*age  ;\n",
    "                run;\n",
    "                \"\"\"))"
   ]
  },
  {
   "cell_type": "markdown",
   "id": "plastic-ideal",
   "metadata": {},
   "source": [
    " - **Example with  PROC MEANS**"
   ]
  },
  {
   "cell_type": "code",
   "execution_count": null,
   "id": "loose-excerpt",
   "metadata": {},
   "outputs": [],
   "source": [
    "print(translator(\"\"\"\n",
    "                 proc means   data = cars  ;\n",
    "                 var invoice age ;\n",
    "                 run;\n",
    "                 \"\"\"))"
   ]
  },
  {
   "cell_type": "code",
   "execution_count": null,
   "id": "overall-spirituality",
   "metadata": {},
   "outputs": [],
   "source": [
    "print(translator(\"\"\"\n",
    "                 proc means   data = cars  ;\n",
    "                 class model ;\n",
    "                 var invoice age ;\n",
    "                 run;\n",
    "                 \"\"\"))"
   ]
  },
  {
   "cell_type": "markdown",
   "id": "extraordinary-membrane",
   "metadata": {},
   "source": [
    "> PROC MEANS with nmiss option"
   ]
  },
  {
   "cell_type": "code",
   "execution_count": null,
   "id": "talented-calibration",
   "metadata": {},
   "outputs": [],
   "source": [
    "print(translator(\"\"\"\n",
    "                 proc means   data = cars nmiss ;\n",
    "                 class model;\n",
    "                 var invoice age ;\n",
    "                 run;\n",
    "                 \"\"\"))"
   ]
  }
 ],
 "metadata": {
  "kernelspec": {
   "display_name": "Python 3",
   "language": "python",
   "name": "python3"
  },
  "language_info": {
   "codemirror_mode": {
    "name": "ipython",
    "version": 3
   },
   "file_extension": ".py",
   "mimetype": "text/x-python",
   "name": "python",
   "nbconvert_exporter": "python",
   "pygments_lexer": "ipython3",
   "version": "3.8.8"
  },
  "toc-autonumbering": false,
  "toc-showmarkdowntxt": true
 },
 "nbformat": 4,
 "nbformat_minor": 5
}
